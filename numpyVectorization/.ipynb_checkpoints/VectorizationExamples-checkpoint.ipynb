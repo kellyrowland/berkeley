{
 "metadata": {
  "name": "",
  "signature": "sha256:4d06f2bd01b22184ed3d90d17c9e9d9e8767fa24db33fbd92a1f3e9f82884281"
 },
 "nbformat": 3,
 "nbformat_minor": 0,
 "worksheets": [
  {
   "cells": [
    {
     "cell_type": "markdown",
     "metadata": {},
     "source": [
      "## Efficient Numerical Code With Numpy Vectorization\n",
      "\n",
      "#### C and fortran paradigm: For loops\n",
      "- Python loops have python overhead \n",
      "- Numpy operations are lower level\n",
      "\n",
      "Ex: adding two arrays\n",
      "```\n",
      "n = 100\n",
      "x = np.random.rand(n)\n",
      "y = np.random.rand(n)\n",
      "f = []\n",
      "for i in range(100):\n",
      "    f.append(x[i] + y[i])\n",
      "```\n",
      "\n",
      "#### Numpy paradigm: Array operations\n",
      "- Useful when performing the same operation to many numerical pieces of data.\n",
      "- Ex: Adding all the elements from two lists of numbers\n",
      "\n",
      "```\n",
      "x = np.rand(100)\n",
      "y = np.rand(100)\n",
      "f = x + y\n",
      "```\n",
      "\n",
      "#### Simple operations\n",
      "- Addition two lists of numbers\n",
      "- numpy array functions \n",
      "  - np.sum(), np.cumsum(), np.exp()\n",
      "  \n",
      "#### Some Numpy version have additional optimizations:\n",
      "Under the hood, complex operations will automatically be run on multiple \n",
      "processors.\n",
      "\n",
      "- SIMD\n",
      "- Intel MKL\n",
      "- To get these benefits in anaconda:\n",
      "\n",
      "```\n",
      "conda install mkl\n",
      "```\n",
      "\n",
      "#### Some Types of Numerical Data Structures\n",
      "- Grid data - possibly regularly spaced\n",
      "- Point data\n"
     ]
    },
    {
     "cell_type": "markdown",
     "metadata": {},
     "source": [
      "### Diffusion Example\n",
      "- Finite Difference Examples: diffusion.py\n",
      "  - Grid data\n",
      "  -http://en.wikipedia.org/wiki/Finite_difference_method#Example:_The_heat_equation\n",
      "  - Equation:\n",
      "$$ u_j^{n+1} = (1-2r) u_j^n + r u_{n-1} + r u_{j+1}^n $$\n",
      "Where $j$ is the spatial index, and $n$ is the time index\n",
      " \n",
      "- 1-D\n",
      "  - For loop\n",
      "  - array version\n",
      "  - Show 2-d plot of all results to compare to gaussian motion\n",
      "- 2-D\n",
      "  - For loop: diff2d_loop()\n",
      "  - array version: diff2d_vec()\n",
      "- Draw overlapping boxes to show how slice indexing should work\n",
      "- %timeit and %lprun useful for measuring timing\n",
      "- lineprofiler: https://github.com/rkern/line_profiler"
     ]
    },
    {
     "cell_type": "code",
     "collapsed": false,
     "input": [
      "# run these functions in iPython to see some \n",
      "from diffusion import *\n",
      "\n",
      "%timeit diff1d_loop(n_x=1000, plotUpdate=False, showPlots=False)\n",
      "%timeit diff1d_vec(n_x=1000, plotUpdate=False, showPlots=False)"
     ],
     "language": "python",
     "metadata": {},
     "outputs": [
      {
       "output_type": "stream",
       "stream": "stdout",
       "text": [
        "1 loops, best of 3: 373 ms per loop\n",
        "100 loops, best of 3: 7.43 ms per loop"
       ]
      },
      {
       "output_type": "stream",
       "stream": "stdout",
       "text": [
        "\n"
       ]
      }
     ]
    },
    {
     "cell_type": "code",
     "collapsed": false,
     "input": [
      "%timeit diff2d_loop(n_x=100, plotUpdate=False, showPlots=False)\n",
      "%timeit diff2d_vec(n_x=100, plotUpdate=False, showPlots=False)"
     ],
     "language": "python",
     "metadata": {},
     "outputs": []
    },
    {
     "cell_type": "markdown",
     "metadata": {},
     "source": [
      "#### Monte Carlo Example\n",
      "- Gaussian motion\n",
      "- List of Particles"
     ]
    },
    {
     "cell_type": "code",
     "collapsed": false,
     "input": [
      "from motion_points import *\n",
      "\n",
      "%timeit simulateParticles_loop(showPlots=False)\n",
      "%timeit simulateParticles_vec(showPlots=False)"
     ],
     "language": "python",
     "metadata": {},
     "outputs": []
    },
    {
     "cell_type": "markdown",
     "metadata": {},
     "source": [
      "#### Data reshaping\n",
      "Often data is not in correct shape for easily performing array manipulations\n",
      "- Useful array member functions: \n",
      "    - .T \n",
      "    - .ravel() \n",
      "    - .reshape(newShape)\n",
      "- Array views\n",
      "- Rotating 2-D grid of points\n",
      "- Rotating 2-D list of points from gaussian motion"
     ]
    },
    {
     "cell_type": "code",
     "collapsed": false,
     "input": [
      "x = np.random.rand(10, 100)\n",
      "y = x.ravel()\n",
      "print x.T.shape\n",
      "print y.shape\n",
      "print y.reshape(x.shape).shape\n",
      "print 'x flags:\\n', x.flags\n",
      "print 'y flags:\\n', y.flags"
     ],
     "language": "python",
     "metadata": {},
     "outputs": []
    },
    {
     "cell_type": "code",
     "collapsed": false,
     "input": [],
     "language": "python",
     "metadata": {},
     "outputs": [],
     "prompt_number": 4
    }
   ],
   "metadata": {}
  }
 ]
}